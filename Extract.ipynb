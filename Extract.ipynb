{
 "cells": [
  {
   "cell_type": "code",
   "execution_count": 35,
   "id": "edf4a2bb",
   "metadata": {},
   "outputs": [],
   "source": [
    "#Import urls as a list\n",
    "with open(\"C:/Users/joc_h/Desktop/urls.txt\", \"r\") as urlFile:\n",
    "    urls = [line.rstrip() for line in urlFile]"
   ]
  },
  {
   "cell_type": "code",
   "execution_count": 36,
   "id": "533240b1",
   "metadata": {},
   "outputs": [],
   "source": [
    "from bs4 import BeautifulSoup\n",
    "import requests\n",
    "\n",
    "for i,url in enumerate(urls):\n",
    "    r = requests.get(url).text\n",
    "    soup = BeautifulSoup(r, 'lxml')\n",
    "    file = open('filename{}.txt'.format(i), 'w', encoding='utf-8')\n",
    "    for article_body in soup.find_all('p'):\n",
    "        body = article_body.text\n",
    "        file.write(body)\n",
    "    file.close()"
   ]
  },
  {
   "cell_type": "code",
   "execution_count": null,
   "id": "9a6819ab",
   "metadata": {},
   "outputs": [],
   "source": []
  }
 ],
 "metadata": {
  "kernelspec": {
   "display_name": "Python 3 (ipykernel)",
   "language": "python",
   "name": "python3"
  },
  "language_info": {
   "codemirror_mode": {
    "name": "ipython",
    "version": 3
   },
   "file_extension": ".py",
   "mimetype": "text/x-python",
   "name": "python",
   "nbconvert_exporter": "python",
   "pygments_lexer": "ipython3",
   "version": "3.9.7"
  }
 },
 "nbformat": 4,
 "nbformat_minor": 5
}
